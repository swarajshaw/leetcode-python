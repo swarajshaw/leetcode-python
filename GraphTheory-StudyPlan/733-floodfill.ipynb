{
 "cells": [
  {
   "cell_type": "markdown",
   "metadata": {},
   "source": [
    "### 733. Flood Fill - Easy\n",
    "\n",
    "An image is represented by an m x n integer grid image where image[i][j] represents the pixel value of the image.\n",
    "\n",
    "You are also given three integers sr, sc, and newColor. You should perform a flood fill on the image starting from the pixel image[sr][sc].\n",
    "\n",
    "To perform a flood fill, consider the starting pixel, plus any pixels connected 4-directionally to the starting pixel of the same color as the starting pixel, plus any pixels connected 4-directionally to those pixels (also with the same color), and so on. Replace the color of all of the aforementioned pixels with newColor.\n",
    "\n",
    "Return the modified image after performing the flood fill.\n",
    "\n",
    " \n",
    "\n",
    "Example 1:\n",
    "\n",
    "![alt text](https://assets.leetcode.com/uploads/2021/06/01/flood1-grid.jpg \"Flood Fill\")\n",
    "\n",
    "\n",
    "> Input: image = [[1,1,1],[1,1,0],[1,0,1]], sr = 1, sc = 1, newColor = 2\n",
    "Output: [[2,2,2],[2,2,0],[2,0,1]]  \n",
    "Explanation: From the center of the image with position (sr, sc) = (1, 1) (i.e., the red pixel), all pixels connected by a path of the same color as the starting pixel (i.e., the blue pixels) are colored with the new color.  \n",
    "Note the bottom corner is not colored 2, because it is not 4-directionally connected to the starting pixel.  \n",
    "\n",
    "Example 2:\n",
    "\n",
    "> Input: image = [[0,0,0],[0,0,0]], sr = 0, sc = 0, newColor = 2  \n",
    "Output: [[2,2,2],[2,2,2]]\n",
    " \n",
    "\n",
    "Constraints:\n",
    "\n",
    "> m == image.length  \n",
    "n == image[i].length  \n",
    "1 <= m, n <= 50  \n",
    "0 <= image[i][j], newColor < 216  \n",
    "0 <= sr < m  \n",
    "0 <= sc < n  \n"
   ]
  },
  {
   "cell_type": "code",
   "execution_count": null,
   "metadata": {},
   "outputs": [],
   "source": [
    "def floodfill(self, image: List[List[int]],sr: int, sc: int, newColor: int) -> List[List[int]]:\n",
    "    if image == None or image[sr][sc] == newColor:\n",
    "        return image\n",
    "    self.fill(image,sr,sc,image[sr][sc], newColor)\n",
    "    return image"
   ]
  },
  {
   "cell_type": "code",
   "execution_count": null,
   "metadata": {},
   "outputs": [],
   "source": [
    "def fill(self, image, r,c, initial, newColor):\n",
    "    if r<0 or r>= len(image) or c<0 or c>=len(image[0]) or image[r][c] != initial:\n",
    "        return\n",
    "    image[r][c] = newColor\n",
    "    self.fill(image, r+1, c,initial,newColor)\n",
    "    self.fill(image, r-1, c,initial,newColor)\n",
    "    self.fill(image, r, c+1,initial,newColor)\n",
    "    self.fill(image, r, c-1,initial,newColor)"
   ]
  }
 ],
 "metadata": {
  "interpreter": {
   "hash": "623155894d3bbe17db255eb17b112b5e8489a909e5ba856b04e00e156db5959c"
  },
  "kernelspec": {
   "display_name": "Python 3.10.4 64-bit",
   "language": "python",
   "name": "python3"
  },
  "language_info": {
   "codemirror_mode": {
    "name": "ipython",
    "version": 3
   },
   "file_extension": ".py",
   "mimetype": "text/x-python",
   "name": "python",
   "nbconvert_exporter": "python",
   "pygments_lexer": "ipython3",
   "version": "3.10.4"
  },
  "orig_nbformat": 4
 },
 "nbformat": 4,
 "nbformat_minor": 2
}
